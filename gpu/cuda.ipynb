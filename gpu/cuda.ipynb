{
 "cells": [
  {
   "cell_type": "code",
   "execution_count": 1,
   "id": "55bd5286-c7ae-4799-989c-608aafb6f822",
   "metadata": {},
   "outputs": [
    {
     "name": "stdout",
     "output_type": "stream",
     "text": [
      "Sun Oct 16 23:51:45 2022       \n",
      "+-----------------------------------------------------------------------------+\n",
      "| NVIDIA-SMI 515.76       Driver Version: 516.94       CUDA Version: 11.7     |\n",
      "|-------------------------------+----------------------+----------------------+\n",
      "| GPU  Name        Persistence-M| Bus-Id        Disp.A | Volatile Uncorr. ECC |\n",
      "| Fan  Temp  Perf  Pwr:Usage/Cap|         Memory-Usage | GPU-Util  Compute M. |\n",
      "|                               |                      |               MIG M. |\n",
      "|===============================+======================+======================|\n",
      "|   0  NVIDIA GeForce ...  On   | 00000000:01:00.0  On |                  N/A |\n",
      "| 30%   35C    P8    17W / 170W |   3244MiB / 12288MiB |     28%      Default |\n",
      "|                               |                      |                  N/A |\n",
      "+-------------------------------+----------------------+----------------------+\n",
      "                                                                               \n",
      "+-----------------------------------------------------------------------------+\n",
      "| Processes:                                                                  |\n",
      "|  GPU   GI   CI        PID   Type   Process name                  GPU Memory |\n",
      "|        ID   ID                                                   Usage      |\n",
      "|=============================================================================|\n",
      "|    0   N/A  N/A        25      G   /Xwayland                       N/A      |\n",
      "+-----------------------------------------------------------------------------+\n"
     ]
    }
   ],
   "source": [
    "!nvidia-smi"
   ]
  },
  {
   "cell_type": "code",
   "execution_count": 2,
   "id": "f131f03f-e18b-40b1-9dd1-d50b65ab222a",
   "metadata": {},
   "outputs": [
    {
     "name": "stderr",
     "output_type": "stream",
     "text": [
      "/home/lum1narie/.local/lib/python3.10/site-packages/skcuda/cublas.py:284: UserWarning: creating CUBLAS context to get version number\n",
      "  warnings.warn('creating CUBLAS context to get version number')\n"
     ]
    }
   ],
   "source": [
    "import numpy as np\n",
    "import pycuda.autoinit\n",
    "import pycuda.driver as cuda\n",
    "from pycuda import gpuarray\n",
    "from skcuda import linalg"
   ]
  },
  {
   "cell_type": "code",
   "execution_count": 3,
   "id": "ed4db58d-724a-47fd-a229-7365d6b89836",
   "metadata": {},
   "outputs": [],
   "source": [
    "REP_N = 1000\n",
    "ARRAY_SIZE = 1000\n",
    "\n",
    "linalg.init()\n",
    "\n",
    "A = gpuarray.to_gpu(np.array([[i + j for j in range(ARRAY_SIZE)] for i in range(ARRAY_SIZE)], np.float32))\n",
    "x = gpuarray.to_gpu(np.array([[i - j for j in range(ARRAY_SIZE)] for i in range(REP_N)], np.float32))\n",
    "y = gpuarray.empty((REP_N, ARRAY_SIZE), np.float32)"
   ]
  },
  {
   "cell_type": "code",
   "execution_count": 4,
   "id": "eda59fd0-239f-41f8-9d5d-63747b81ce53",
   "metadata": {},
   "outputs": [
    {
     "name": "stdout",
     "output_type": "stream",
     "text": [
      "CPU times: user 86.5 ms, sys: 3.62 ms, total: 90.1 ms\n",
      "Wall time: 89.1 ms\n"
     ]
    }
   ],
   "source": [
    "%%time\n",
    "for i in range(REP_N):\n",
    "    y[i] = linalg.dot(A, x[i])"
   ]
  }
 ],
 "metadata": {
  "kernelspec": {
   "display_name": "Python 3 (ipykernel)",
   "language": "python",
   "name": "python3"
  },
  "language_info": {
   "codemirror_mode": {
    "name": "ipython",
    "version": 3
   },
   "file_extension": ".py",
   "mimetype": "text/x-python",
   "name": "python",
   "nbconvert_exporter": "python",
   "pygments_lexer": "ipython3",
   "version": "3.10.7"
  }
 },
 "nbformat": 4,
 "nbformat_minor": 5
}
