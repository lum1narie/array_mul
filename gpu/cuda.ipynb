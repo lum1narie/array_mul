{
 "cells": [
  {
   "cell_type": "code",
   "execution_count": 1,
   "id": "55bd5286-c7ae-4799-989c-608aafb6f822",
   "metadata": {},
   "outputs": [
    {
     "name": "stdout",
     "output_type": "stream",
     "text": [
      "Thu Oct 20 17:08:59 2022       \n",
      "+-----------------------------------------------------------------------------+\n",
      "| NVIDIA-SMI 520.56.06    Driver Version: 516.94       CUDA Version: 11.7     |\n",
      "|-------------------------------+----------------------+----------------------+\n",
      "| GPU  Name        Persistence-M| Bus-Id        Disp.A | Volatile Uncorr. ECC |\n",
      "| Fan  Temp  Perf  Pwr:Usage/Cap|         Memory-Usage | GPU-Util  Compute M. |\n",
      "|                               |                      |               MIG M. |\n",
      "|===============================+======================+======================|\n",
      "|   0  NVIDIA GeForce ...  On   | 00000000:01:00.0 Off |                  N/A |\n",
      "| 30%   30C    P8    14W / 170W |   1550MiB / 12288MiB |     30%      Default |\n",
      "|                               |                      |                  N/A |\n",
      "+-------------------------------+----------------------+----------------------+\n",
      "                                                                               \n",
      "+-----------------------------------------------------------------------------+\n",
      "| Processes:                                                                  |\n",
      "|  GPU   GI   CI        PID   Type   Process name                  GPU Memory |\n",
      "|        ID   ID                                                   Usage      |\n",
      "|=============================================================================|\n",
      "|  No running processes found                                                 |\n",
      "+-----------------------------------------------------------------------------+\n"
     ]
    }
   ],
   "source": [
    "!nvidia-smi"
   ]
  },
  {
   "cell_type": "code",
   "execution_count": 2,
   "id": "f131f03f-e18b-40b1-9dd1-d50b65ab222a",
   "metadata": {},
   "outputs": [],
   "source": [
    "import numpy as np\n",
    "from cupyx.scipy import linalg\n",
    "from scipy.sparse import csr_matrix\n",
    "from cupyx.scipy.sparse import csr_matrix as csr_gpu\n",
    "import cupy as cp"
   ]
  },
  {
   "cell_type": "code",
   "execution_count": 3,
   "id": "ed4db58d-724a-47fd-a229-7365d6b89836",
   "metadata": {},
   "outputs": [],
   "source": [
    "REP_N = 1000\n",
    "ARRAY_SIZE = 1000\n",
    "\n",
    "A = cp.asarray(np.array([[i + j for j in range(ARRAY_SIZE)]\n",
    "                              for i in range(ARRAY_SIZE)], np.float32))\n",
    "x = cp.asarray(np.array([[i - j for j in range(ARRAY_SIZE)] for i in range(REP_N)], np.float32))\n",
    "y = cp.empty((REP_N, ARRAY_SIZE), np.float32)"
   ]
  },
  {
   "cell_type": "code",
   "execution_count": 4,
   "id": "eda59fd0-239f-41f8-9d5d-63747b81ce53",
   "metadata": {},
   "outputs": [
    {
     "name": "stdout",
     "output_type": "stream",
     "text": [
      "29.7 ms ± 5.47 ms per loop (mean ± std. dev. of 7 runs, 1 loop each)\n"
     ]
    }
   ],
   "source": [
    "%%timeit\n",
    "for i in range(REP_N):\n",
    "    y[i] = cp.dot(A, x[i])"
   ]
  },
  {
   "cell_type": "code",
   "execution_count": 5,
   "id": "e42b04ec-7e58-4534-8d8e-a8c6fc54227d",
   "metadata": {},
   "outputs": [],
   "source": [
    "A_cpu = cp.asnumpy(A)\n",
    "x_cpu = cp.asnumpy(x)\n",
    "y_cpu = cp.asnumpy(y)"
   ]
  },
  {
   "cell_type": "code",
   "execution_count": 6,
   "id": "844c4401-0867-4cd2-9c16-60bbca516fec",
   "metadata": {},
   "outputs": [
    {
     "name": "stdout",
     "output_type": "stream",
     "text": [
      "11.7 ms ± 125 µs per loop (mean ± std. dev. of 7 runs, 100 loops each)\n"
     ]
    }
   ],
   "source": [
    "%%timeit\n",
    "for i in range(REP_N):\n",
    "    y_cpu[i] = np.dot(A_cpu, x_cpu[i])"
   ]
  },
  {
   "cell_type": "code",
   "execution_count": 7,
   "id": "07e80045-c0a8-45bb-bfbf-93e5637237c8",
   "metadata": {},
   "outputs": [],
   "source": [
    "class XorShift32():\n",
    "    def __init__(self, seed=42):\n",
    "        self.set(seed);\n",
    "\n",
    "    def set(self, seed):\n",
    "        self.x = seed;\n",
    "\n",
    "    def next(self):\n",
    "        self.x ^= (self.x << 13) & 0xFFFFFFFF\n",
    "        self.x ^= (self.x >> 17) & 0xFFFFFFFF\n",
    "        self.x ^= (self.x << 5) & 0xFFFFFFFF\n",
    "        return self.x\n",
    "\n",
    "xor32 = XorShift32(42)\n",
    "\n",
    "ratio = 0.05\n",
    "\n",
    "data = []\n",
    "row = []\n",
    "col = []\n",
    "A_cpu = A.get()\n",
    "for i in range(ARRAY_SIZE):\n",
    "    for j in range(ARRAY_SIZE):\n",
    "        if (float(xor32.next()) / float(0xFFFFFFFF)) < ratio:\n",
    "            row.append(i)\n",
    "            col.append(j)\n",
    "            data.append(A_cpu[i][j])\n",
    "            \n",
    "data_nd = cp.asarray(data)\n",
    "row_nd = cp.asarray(row)\n",
    "col_nd = cp.asarray(col)\n",
    "\n",
    "A_sparsed = csr_gpu((data_nd, (row_nd, col_nd)), shape=(ARRAY_SIZE, ARRAY_SIZE), dtype=np.float32)\n",
    "y_sparsed = cp.empty((REP_N, ARRAY_SIZE), np.float32)\n",
    "\n",
    "A_sparsed_dense = A_sparsed.todense()\n",
    "y_sparsed_dense = cp.empty((REP_N, ARRAY_SIZE), np.float32)\n",
    "\n",
    "A_sparsed_dense_cpu = cp.asnumpy(A_sparsed_dense)\n",
    "y_sparsed_cpu = cp.asnumpy(A_sparsed_dense)"
   ]
  },
  {
   "cell_type": "code",
   "execution_count": 8,
   "id": "b15c2883-d5c7-48ef-8179-2c21766dee47",
   "metadata": {},
   "outputs": [
    {
     "name": "stdout",
     "output_type": "stream",
     "text": [
      "65.1 ms ± 6.28 ms per loop (mean ± std. dev. of 7 runs, 10 loops each)\n"
     ]
    }
   ],
   "source": [
    "%%timeit\n",
    "for i in range(REP_N):\n",
    "    y_sparsed[i] = A_sparsed.dot(x[i])"
   ]
  },
  {
   "cell_type": "code",
   "execution_count": 9,
   "id": "b176a113-090a-4484-be19-f893fb9a4abc",
   "metadata": {},
   "outputs": [
    {
     "name": "stdout",
     "output_type": "stream",
     "text": [
      "27.3 ms ± 1.84 ms per loop (mean ± std. dev. of 7 runs, 10 loops each)\n"
     ]
    }
   ],
   "source": [
    "%%timeit\n",
    "for i in range(REP_N):\n",
    "    y_sparsed_dense[i] = cp.dot(A_sparsed_dense, x[i])"
   ]
  },
  {
   "cell_type": "code",
   "execution_count": 10,
   "id": "303e8d75-cfc1-47d7-8801-003bdf9c0ad7",
   "metadata": {},
   "outputs": [
    {
     "name": "stdout",
     "output_type": "stream",
     "text": [
      "11.7 ms ± 177 µs per loop (mean ± std. dev. of 7 runs, 100 loops each)\n"
     ]
    }
   ],
   "source": [
    "%%timeit\n",
    "for i in range(REP_N):\n",
    "    y_sparsed_cpu[i] = cp.dot(A_sparsed_dense_cpu, x_cpu[i])"
   ]
  }
 ],
 "metadata": {
  "kernelspec": {
   "display_name": "Python 3 (ipykernel)",
   "language": "python",
   "name": "python3"
  },
  "language_info": {
   "codemirror_mode": {
    "name": "ipython",
    "version": 3
   },
   "file_extension": ".py",
   "mimetype": "text/x-python",
   "name": "python",
   "nbconvert_exporter": "python",
   "pygments_lexer": "ipython3",
   "version": "3.10.8"
  }
 },
 "nbformat": 4,
 "nbformat_minor": 5
}
